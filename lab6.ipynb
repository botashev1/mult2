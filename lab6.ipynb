{
  "cells": [
    {
      "cell_type": "markdown",
      "metadata": {
        "id": "e_jR77grBmv1"
      },
      "source": [
        "Бейзлайн (датасет CIFAR10)"
      ]
    },
    {
      "cell_type": "code",
      "execution_count": null,
      "metadata": {
        "colab": {
          "base_uri": "https://localhost:8080/"
        },
        "id": "BD47BkweBmv2",
        "outputId": "a6beff56-80f4-4b42-b57a-9394df0cce70"
      },
      "outputs": [
        {
          "name": "stdout",
          "output_type": "stream",
          "text": [
            "Using device: cuda\n",
            "\n",
            "=== Baseline Results ===\n",
            "ResNet18: Accuracy=0.7570, F1=0.7576\n",
            "SwinV2Tiny: Accuracy=0.6184, F1=0.6125\n",
            "\n"
          ]
        }
      ],
      "source": [
        "import torch\n",
        "import torchvision\n",
        "import torchvision.transforms as T\n",
        "import torch.nn as nn\n",
        "import torch.optim as optim\n",
        "from torch.utils.data import DataLoader\n",
        "from sklearn.metrics import accuracy_score, f1_score, confusion_matrix\n",
        "import numpy as np\n",
        "from tqdm import tqdm\n",
        "\n",
        "device = 'cuda' if torch.cuda.is_available() else 'cpu'\n",
        "print(\"Using device:\", device)\n",
        "\n",
        "transform = T.Compose([\n",
        "    T.ToTensor(),\n",
        "    T.Normalize((0.5, 0.5, 0.5), (0.5, 0.5, 0.5))\n",
        "])\n",
        "\n",
        "batch_size = 128\n",
        "\n",
        "trainset = torchvision.datasets.CIFAR10(root='./data', train=True, download=True, transform=transform)\n",
        "trainloader = DataLoader(trainset, batch_size=batch_size, shuffle=True, num_workers=2)\n",
        "\n",
        "testset = torchvision.datasets.CIFAR10(root='./data', train=False, download=True, transform=transform)\n",
        "testloader = DataLoader(testset, batch_size=batch_size, shuffle=False, num_workers=2)\n",
        "\n",
        "num_classes = 10\n",
        "\n",
        "resnet = torchvision.models.resnet18(weights=None, num_classes=num_classes)\n",
        "resnet.to(device)\n",
        "\n",
        "swin = torchvision.models.swin_v2_t(weights=None, num_classes=num_classes)\n",
        "swin.to(device)\n",
        "\n",
        "models = {\"ResNet18\": resnet}\n",
        "models[\"SwinV2Tiny\"] = swin\n",
        "\n",
        "\n",
        "def train_epoch(model, loader, loss_fn, optimizer, device):\n",
        "    model.train()\n",
        "    total_loss = 0\n",
        "    for x, y in tqdm(loader, leave=False):\n",
        "        x, y = x.to(device), y.to(device)\n",
        "        optimizer.zero_grad()\n",
        "        out = model(x)\n",
        "        loss = loss_fn(out, y)\n",
        "        loss.backward()\n",
        "        optimizer.step()\n",
        "        total_loss += loss.item() * x.size(0)\n",
        "    return total_loss / len(loader.dataset)\n",
        "\n",
        "@torch.no_grad()\n",
        "def eval_metrics(model, loader, device):\n",
        "    model.eval()\n",
        "    y_true, y_pred = [], []\n",
        "    for x, y in loader:\n",
        "        x = x.to(device)\n",
        "        preds = model(x).argmax(1).cpu().numpy()\n",
        "        y_true.extend(y.numpy())\n",
        "        y_pred.extend(preds)\n",
        "    acc = accuracy_score(y_true, y_pred)\n",
        "    f1 = f1_score(y_true, y_pred, average='macro')\n",
        "    cm = confusion_matrix(y_true, y_pred)\n",
        "    return acc, f1, cm\n",
        "\n",
        "\n",
        "results = {}\n",
        "num_epochs = 10\n",
        "\n",
        "for name, model in models.items():\n",
        "    optimizer = optim.Adam(model.parameters(), lr=1e-3)\n",
        "    criterion = nn.CrossEntropyLoss()\n",
        "    for epoch in range(num_epochs):\n",
        "        avg_loss = train_epoch(model, trainloader, criterion, optimizer, device)\n",
        "\n",
        "    acc, f1, cm = eval_metrics(model, testloader, device)\n",
        "    results[name] = (acc, f1, cm)\n",
        "\n",
        "\n",
        "print(\"\\n=== Baseline Results ===\")\n",
        "for name, (acc, f1, cm) in results.items():\n",
        "    print(f\"{name}: Accuracy={acc:.4f}, F1={f1:.4f}\")"
      ]
    },
    {
      "cell_type": "markdown",
      "metadata": {},
      "source": [
        "Улучшение бейзлайна"
      ]
    },
    {
      "cell_type": "code",
      "execution_count": 7,
      "metadata": {
        "colab": {
          "base_uri": "https://localhost:8080/"
        },
        "id": "r5-tf2z0Bmv3",
        "outputId": "d1f1a532-3771-4538-ef7d-8b04c6a1d063"
      },
      "outputs": [
        {
          "name": "stderr",
          "output_type": "stream",
          "text": []
        },
        {
          "name": "stdout",
          "output_type": "stream",
          "text": [
            "\n",
            "=== Improved Baseline Results ===\n",
            "ResNet18: Accuracy=0.7378, F1=0.7358\n",
            "SwinV2Tiny: Accuracy=0.1000, F1=0.0182\n"
          ]
        }
      ],
      "source": [
        "import torch\n",
        "import torchvision\n",
        "import torchvision.transforms as T\n",
        "import torch.nn as nn\n",
        "import torch.optim as optim\n",
        "from torch.utils.data import DataLoader\n",
        "from sklearn.metrics import accuracy_score, f1_score, confusion_matrix\n",
        "import numpy as np\n",
        "from tqdm import tqdm\n",
        "\n",
        "improve_transform = T.Compose([\n",
        "    T.RandomCrop(32, padding=4),\n",
        "    T.RandomHorizontalFlip(),\n",
        "    T.ColorJitter(brightness=0.2, contrast=0.2, saturation=0.2, hue=0.1),\n",
        "    T.ToTensor(),\n",
        "    T.Normalize((0.5, 0.5, 0.5), (0.5, 0.5, 0.5)),\n",
        "    T.RandomErasing(p=0.3)\n",
        "])\n",
        "\n",
        "test_transform = T.Compose([\n",
        "    T.ToTensor(),\n",
        "    T.Normalize((0.5, 0.5, 0.5), (0.5, 0.5, 0.5))\n",
        "])\n",
        "\n",
        "batch_size = 128\n",
        "\n",
        "trainset_aug = torchvision.datasets.CIFAR10(root='./data', train=True, download=False, transform=improve_transform)\n",
        "trainloader_aug = DataLoader(trainset_aug, batch_size=batch_size, shuffle=True, num_workers=2)\n",
        "\n",
        "testset_aug = torchvision.datasets.CIFAR10(root='./data', train=False, download=False, transform=test_transform)\n",
        "testloader_aug = DataLoader(testset_aug, batch_size=batch_size, shuffle=False, num_workers=2)\n",
        "\n",
        "num_classes = 10\n",
        "\n",
        "resnet = torchvision.models.resnet18(weights=None, num_classes=num_classes).to(device)\n",
        "swin = torchvision.models.swin_v2_t(weights=None, num_classes=num_classes).to(device)\n",
        "\n",
        "models = {\"ResNet18\": resnet, \"SwinV2Tiny\": swin}\n",
        "\n",
        "results = {}\n",
        "num_epochs = 10\n",
        "\n",
        "for name, model in models.items():\n",
        "    optimizer = optim.SGD(model.parameters(), lr=0.1, momentum=0.9, weight_decay=5e-4)\n",
        "    scheduler = optim.lr_scheduler.StepLR(optimizer, step_size=5, gamma=0.2)\n",
        "    criterion = nn.CrossEntropyLoss()\n",
        "\n",
        "    for epoch in range(num_epochs):\n",
        "        avg_loss = train_epoch(model, trainloader_aug, criterion, optimizer, device)\n",
        "        scheduler.step()\n",
        "    acc, f1, cm = eval_metrics(model, testloader_aug, device)\n",
        "    results[name] = (acc, f1, cm)\n",
        "\n",
        "\n",
        "print(\"\\n=== Improved Baseline Results ===\")\n",
        "for name, (acc, f1, cm) in results.items():\n",
        "    print(f\"{name}: Accuracy={acc:.4f}, F1={f1:.4f}\")"
      ]
    },
    {
      "cell_type": "markdown",
      "metadata": {},
      "source": [
        "Собственная реализация"
      ]
    },
    {
      "cell_type": "code",
      "execution_count": 8,
      "metadata": {
        "colab": {
          "base_uri": "https://localhost:8080/"
        },
        "id": "XKRnretnJwP-",
        "outputId": "6c309dec-8a49-4e2c-b550-eefaa658c247"
      },
      "outputs": [
        {
          "name": "stderr",
          "output_type": "stream",
          "text": []
        },
        {
          "name": "stdout",
          "output_type": "stream",
          "text": [
            "\n",
            "=== Self implementation ===\n",
            "SimpleCNN: Accuracy=0.7843, F1=0.7820\n",
            "TinyViT: Accuracy=0.6782, F1=0.6782\n"
          ]
        }
      ],
      "source": [
        "class SimpleCNN(nn.Module):\n",
        "    def __init__(self, num_classes=10):\n",
        "        super().__init__()\n",
        "        self.features = nn.Sequential(\n",
        "            nn.Conv2d(3, 32, 3, padding=1), nn.ReLU(), nn.BatchNorm2d(32),\n",
        "            nn.Conv2d(32, 64, 3, padding=1), nn.ReLU(), nn.BatchNorm2d(64),\n",
        "            nn.MaxPool2d(2),\n",
        "            nn.Conv2d(64, 128, 3, padding=1), nn.ReLU(), nn.BatchNorm2d(128),\n",
        "            nn.MaxPool2d(2)\n",
        "        )\n",
        "        self.classifier = nn.Sequential(\n",
        "            nn.Flatten(),\n",
        "            nn.Linear(128*8*8, 256), nn.ReLU(), nn.Dropout(0.3),\n",
        "            nn.Linear(256, num_classes)\n",
        "        )\n",
        "    def forward(self, x):\n",
        "        x = self.features(x)\n",
        "        x = self.classifier(x)\n",
        "        return x\n",
        "\n",
        "\n",
        "class TinyViT(nn.Module):\n",
        "    def __init__(self, num_classes=10, img_size=32, patch_size=4, dim=64, num_layers=2, num_heads=4):\n",
        "        super().__init__()\n",
        "        num_patches = (img_size // patch_size) ** 2\n",
        "        self.patch_embed = nn.Conv2d(3, dim, kernel_size=patch_size, stride=patch_size)\n",
        "        encoder_layer = nn.TransformerEncoderLayer(d_model=dim, nhead=num_heads, batch_first=True)\n",
        "        self.transformer = nn.TransformerEncoder(encoder_layer, num_layers=num_layers)\n",
        "        self.cls_token = nn.Parameter(torch.zeros(1, 1, dim))\n",
        "        self.pos_embed = nn.Parameter(torch.zeros(1, num_patches + 1, dim))\n",
        "        self.mlp_head = nn.Linear(dim, num_classes)\n",
        "    def forward(self, x):\n",
        "        B = x.size(0)\n",
        "        x = self.patch_embed(x).flatten(2).transpose(1,2)\n",
        "        cls_tokens = self.cls_token.expand(B, -1, -1)\n",
        "        x = torch.cat([cls_tokens, x], dim=1)\n",
        "        x = x + self.pos_embed\n",
        "        x = self.transformer(x)\n",
        "        x = x[:,0]\n",
        "        x = self.mlp_head(x)\n",
        "        return x\n",
        "\n",
        "\n",
        "models_my = {\n",
        "    \"SimpleCNN\": SimpleCNN(num_classes).to(device),\n",
        "    \"TinyViT\": TinyViT(num_classes).to(device)\n",
        "}\n",
        "results_my = {}\n",
        "for name, model in models_my.items():\n",
        "    optimizer = optim.Adam(model.parameters(), lr=1e-3)\n",
        "    for epoch in range(num_epochs):\n",
        "        train_epoch(model, trainloader, nn.CrossEntropyLoss(), optimizer, device)\n",
        "    acc, f1, cm = eval_metrics(model, testloader, device)\n",
        "    results_my[name] = (acc, f1, cm)\n",
        "\n",
        "print(\"\\n=== Self implementation ===\")\n",
        "for name, (acc, f1, cm) in results_my.items():\n",
        "    print(f\"{name}: Accuracy={acc:.4f}, F1={f1:.4f}\")"
      ]
    },
    {
      "cell_type": "markdown",
      "metadata": {},
      "source": [
        "Улучшение собственной реализации"
      ]
    },
    {
      "cell_type": "code",
      "execution_count": null,
      "metadata": {
        "colab": {
          "base_uri": "https://localhost:8080/"
        },
        "id": "aB75S4D7KM-o",
        "outputId": "474fa600-1a9d-4f57-b329-5ee8bd5a64ef"
      },
      "outputs": [
        {
          "name": "stdout",
          "output_type": "stream",
          "text": [
            "\n",
            "=== Self implementation (improved) ===\n",
            "SimpleCNN: Accuracy=0.7991, F1=0.7911\n",
            "TinyViT: Accuracy=0.6806, F1=0.6405\n",
            "\n"
          ]
        }
      ],
      "source": [
        "improve_transform = T.Compose([\n",
        "    T.RandomCrop(32, padding=4),\n",
        "    T.RandomHorizontalFlip(),\n",
        "    T.ColorJitter(brightness=0.2, contrast=0.2, saturation=0.2, hue=0.1),\n",
        "    T.ToTensor(),\n",
        "    T.Normalize((0.5, 0.5, 0.5), (0.5, 0.5, 0.5)),\n",
        "    T.RandomErasing(p=0.3)\n",
        "])\n",
        "\n",
        "trainset_aug = torchvision.datasets.CIFAR10(root='./data', train=True, download=False, transform=improve_transform)\n",
        "trainloader_aug = DataLoader(trainset_aug, batch_size=batch_size, shuffle=True, num_workers=2)\n",
        "\n",
        "models_my_aug = {\n",
        "    \"SimpleCNN\": SimpleCNN(num_classes).to(device),\n",
        "    \"TinyViT\": TinyViT(num_classes).to(device)\n",
        "}\n",
        "results_my_aug = {}\n",
        "for name, model in models_my_aug.items():\n",
        "    optimizer = optim.SGD(model.parameters(), lr=0.1, momentum=0.9, weight_decay=5e-4)\n",
        "    scheduler = optim.lr_scheduler.StepLR(optimizer, step_size=5, gamma=0.2)\n",
        "    for epoch in range(10):\n",
        "        train_epoch(model, trainloader_aug, nn.CrossEntropyLoss(), optimizer, device)\n",
        "        scheduler.step()\n",
        "    acc, f1, cm = eval_metrics(model, testloader, device)\n",
        "    results_my_aug[name] = (acc, f1, cm)\n",
        "\n",
        "print(\"\\n=== Self implementation (improved) ===\")\n",
        "for name, (acc, f1, cm) in results_my_aug.items():\n",
        "    print(f\"{name}: Accuracy={acc:.4f}, F1={f1:.4f}\")"
      ]
    }
  ],
  "metadata": {
    "accelerator": "GPU",
    "colab": {
      "gpuType": "T4",
      "provenance": []
    },
    "kernelspec": {
      "display_name": ".venv",
      "language": "python",
      "name": "python3"
    },
    "language_info": {
      "codemirror_mode": {
        "name": "ipython",
        "version": 3
      },
      "file_extension": ".py",
      "mimetype": "text/x-python",
      "name": "python",
      "nbconvert_exporter": "python",
      "pygments_lexer": "ipython3",
      "version": "3.12.9"
    }
  },
  "nbformat": 4,
  "nbformat_minor": 0
}
