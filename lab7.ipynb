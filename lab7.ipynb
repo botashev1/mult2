{
  "cells": [
    {
      "cell_type": "markdown",
      "metadata": {
        "id": "e_jR77grBmv1"
      },
      "source": [
        "Бейзлайн (U-Net и SegFormer)"
      ]
    },
    {
      "cell_type": "code",
      "execution_count": null,
      "metadata": {
        "colab": {
          "base_uri": "https://localhost:8080/"
        },
        "id": "BD47BkweBmv2",
        "outputId": "8eb75f70-998b-4b67-dde4-d6a845b0aaf8"
      },
      "outputs": [
        {
          "name": "stdout",
          "output_type": "stream",
          "text": [
            "Using device: cuda\n"
          ]
        }
      ],
      "source": [
        "import torch\n",
        "import segmentation_models_pytorch as smp\n",
        "from torch.utils.data import DataLoader\n",
        "from torchvision import transforms\n",
        "from torchvision.datasets import VOCSegmentation\n",
        "from torch.optim import Adam\n",
        "from torch.nn import CrossEntropyLoss\n",
        "from sklearn.metrics import jaccard_score, accuracy_score\n",
        "\n",
        "# Выбор устройства: GPU с поддержкой MPS, если доступно, или CPU\n",
        "# -- 1a: Устройство и CIFAR10\n",
        "device_name = 'cuda' if torch.cuda.is_available() else 'cpu'\n",
        "print(\"Using device:\", device_name)\n",
        "device = torch.device(device_name)\n",
        "\n",
        "# Загружаем VOC 2012 датасет\n",
        "dataset_train = VOCSegmentation(\n",
        "    root='./data',\n",
        "    year='2012',\n",
        "    image_set='train',\n",
        "    download=True,\n",
        "    transform=transforms.Compose([\n",
        "        transforms.Resize((256, 256)),\n",
        "        transforms.ToTensor(),\n",
        "    ]),\n",
        "    target_transform=transforms.Compose([\n",
        "        transforms.Resize((256, 256)),\n",
        "        transforms.ToTensor(),\n",
        "    ])\n",
        ")\n",
        "\n",
        "dataset_val = VOCSegmentation(\n",
        "    root='./data',\n",
        "    year='2012',\n",
        "    image_set='val',\n",
        "    download=True,\n",
        "    transform=transforms.Compose([\n",
        "        transforms.Resize((256, 256)),\n",
        "        transforms.ToTensor(),\n",
        "    ]),\n",
        "    target_transform=transforms.Compose([\n",
        "        transforms.Resize((256, 256)),\n",
        "        transforms.ToTensor(),\n",
        "    ])\n",
        ")\n",
        "\n",
        "train_loader = DataLoader(dataset_train, batch_size=8, shuffle=True)\n",
        "val_loader = DataLoader(dataset_val, batch_size=8, shuffle=False)"
      ]
    },
    {
      "cell_type": "code",
      "execution_count": null,
      "metadata": {
        "id": "Vf4GQVSqygRm"
      },
      "outputs": [],
      "source": [
        "def train(model, loader, optimizer, criterion, device):\n",
        "    model.train()\n",
        "    total_loss = 0\n",
        "    for images, masks in loader:\n",
        "        images, masks = images.to(device), masks.long().to(device)\n",
        "        optimizer.zero_grad()\n",
        "        outputs = model(images)\n",
        "        loss = criterion(outputs, masks.squeeze(1))\n",
        "        loss.backward()\n",
        "        optimizer.step()\n",
        "        total_loss += loss.item()\n",
        "    return total_loss / len(loader)\n",
        "\n",
        "def evaluate(model, loader, device):\n",
        "    model.eval()\n",
        "    total_iou = 0\n",
        "    total_accuracy = 0\n",
        "    n_samples = 0\n",
        "    with torch.no_grad():\n",
        "        for images, masks in loader:\n",
        "            images, masks = images.to(device), masks.long().to(device)\n",
        "            outputs = model(images)\n",
        "            preds = torch.argmax(outputs, dim=1)\n",
        "            total_iou += jaccard_score(masks.cpu().numpy().reshape(-1), preds.cpu().numpy().reshape(-1), average='macro')\n",
        "            total_accuracy += accuracy_score(masks.cpu().numpy().reshape(-1), preds.cpu().numpy().reshape(-1))\n",
        "            n_samples += 1\n",
        "    return total_iou / n_samples, total_accuracy / n_samples\n",
        "\n",
        "def train_and_evaluate(model, train_loader, val_loader, device, num_epochs=5):\n",
        "    optimizer = Adam(model.parameters(), lr=0.0001)\n",
        "    criterion = CrossEntropyLoss()\n",
        "\n",
        "    for epoch in range(num_epochs):\n",
        "        train_loss = train(model, train_loader, optimizer, criterion, device)\n",
        "        val_iou, val_accuracy = evaluate(model, val_loader, device)\n",
        "        print(f'Epoch {epoch+1}/{num_epochs}, Loss: {train_loss:.4f}, Val mIoU: {val_iou:.4f}, Val Accuracy: {val_accuracy:.4f}')\n",
        "\n",
        "    final_iou, final_accuracy = evaluate(model, val_loader, device)\n",
        "    print(f\"mIoU: {final_iou:.4f}, Accuracy: {final_accuracy:.4f}\")"
      ]
    },
    {
      "cell_type": "code",
      "execution_count": null,
      "metadata": {
        "colab": {
          "base_uri": "https://localhost:8080/"
        },
        "id": "aMKMtIUxwaki",
        "outputId": "bf52934a-8b0d-4082-dd33-24117d3f5c2e"
      },
      "outputs": [
        {
          "name": "stderr",
          "output_type": "stream",
          "text": [
            "/usr/local/lib/python3.11/dist-packages/huggingface_hub/utils/_auth.py:94: UserWarning: \n",
            "The secret `HF_TOKEN` does not exist in your Colab secrets.\n",
            "To authenticate with the Hugging Face Hub, create a token in your settings tab (https://huggingface.co/settings/tokens), set it as secret in your Google Colab and restart your session.\n",
            "You will be able to reuse this secret in all of your notebooks.\n",
            "Please note that authentication is recommended but still optional to access public models or datasets.\n",
            "  warnings.warn(\n"
          ]
        },
        {
          "name": "stdout",
          "output_type": "stream",
          "text": [
            "=== U-Net with ResNet34 Encoder ===\n",
            "Epoch 1/5, Loss: 1.7636, Val mIoU: 0.2217, Val Accuracy: 0.9443\n",
            "Epoch 2/5, Loss: 0.6099, Val mIoU: 0.4725, Val Accuracy: 0.9449\n",
            "Epoch 3/5, Loss: 0.3257, Val mIoU: 0.4725, Val Accuracy: 0.9449\n",
            "Epoch 4/5, Loss: 0.2406, Val mIoU: 0.4727, Val Accuracy: 0.9449\n",
            "Epoch 5/5, Loss: 0.1993, Val mIoU: 0.4830, Val Accuracy: 0.9453\n",
            "mIoU: 0.4830, Accuracy: 0.9453\n"
          ]
        }
      ],
      "source": [
        "unet_model = smp.Unet(encoder_name='resnet34', classes=21, activation=None).to(device)\n",
        "print(\"=== U-Net with ResNet34 Encoder ===\")\n",
        "train_and_evaluate(unet_model, train_loader, val_loader, device, num_epochs=5)"
      ]
    },
    {
      "cell_type": "code",
      "execution_count": null,
      "metadata": {
        "colab": {
          "base_uri": "https://localhost:8080/"
        },
        "id": "r5-tf2z0Bmv3",
        "outputId": "ab444666-44ed-4a13-c362-3f2b86086ca0"
      },
      "outputs": [
        {
          "name": "stdout",
          "output_type": "stream",
          "text": [
            "=== SegFormer ===\n",
            "Epoch 1/5, Loss: 1.2667, Val mIoU: 0.4612, Val Accuracy: 0.9446\n",
            "Epoch 2/5, Loss: 0.2817, Val mIoU: 0.4281, Val Accuracy: 0.9441\n",
            "Epoch 3/5, Loss: 0.2171, Val mIoU: 0.4828, Val Accuracy: 0.9446\n",
            "Epoch 4/5, Loss: 0.1929, Val mIoU: 0.4871, Val Accuracy: 0.9445\n",
            "Epoch 5/5, Loss: 0.1706, Val mIoU: 0.4815, Val Accuracy: 0.9427\n",
            "mIoU: 0.4815, Accuracy: 0.9427\n"
          ]
        }
      ],
      "source": [
        "segformer_model = smp.create_model('segformer', in_channels=3, classes=21).to(device)\n",
        "print(\"=== SegFormer ===\")\n",
        "train_and_evaluate(segformer_model, train_loader, val_loader, device, num_epochs=5)"
      ]
    },
    {
      "cell_type": "markdown",
      "metadata": {},
      "source": [
        "Улучшение бейзлайна"
      ]
    },
    {
      "cell_type": "code",
      "execution_count": null,
      "metadata": {
        "colab": {
          "base_uri": "https://localhost:8080/"
        },
        "id": "XKRnretnJwP-",
        "outputId": "d226cc80-8e42-4dfd-b498-090a45e400ab"
      },
      "outputs": [
        {
          "name": "stdout",
          "output_type": "stream",
          "text": [
            "\n",
            "=== Improved Training U-Net with ResNet34 Encoder ===\n",
            "Epoch 1/5, Loss: 3.0019, Val mIoU: 0.0316, Val Accuracy: 0.6336\n",
            "Epoch 2/5, Loss: 2.2800, Val mIoU: 0.0531, Val Accuracy: 0.9250\n",
            "Epoch 3/5, Loss: 1.7928, Val mIoU: 0.0657, Val Accuracy: 0.9370\n",
            "Epoch 4/5, Loss: 1.3273, Val mIoU: 0.1053, Val Accuracy: 0.9406\n",
            "Epoch 5/5, Loss: 0.9505, Val mIoU: 0.2297, Val Accuracy: 0.9443\n",
            "mIoU: 0.4997, Accuracy: 0.9443\n",
            "\n",
            "=== Improved Training SegFormer ===\n",
            "Epoch 1/5, Loss: 1.7709, Val mIoU: 0.4655, Val Accuracy: 0.9449\n",
            "Epoch 2/5, Loss: 0.5293, Val mIoU: 0.4671, Val Accuracy: 0.9449\n",
            "Epoch 3/5, Loss: 0.3614, Val mIoU: 0.4725, Val Accuracy: 0.9449\n",
            "Epoch 4/5, Loss: 0.3010, Val mIoU: 0.4725, Val Accuracy: 0.9449\n",
            "Epoch 5/5, Loss: 0.2706, Val mIoU: 0.4727, Val Accuracy: 0.9449\n",
            "mIoU: 0.4727, Accuracy: 0.9449\n"
          ]
        }
      ],
      "source": [
        "from torchvision.transforms import RandomHorizontalFlip, ColorJitter, RandomRotation\n",
        "\n",
        "data_transforms = transforms.Compose([\n",
        "    transforms.Resize((256, 256)),\n",
        "    RandomHorizontalFlip(),\n",
        "    ColorJitter(brightness=0.3, contrast=0.3, saturation=0.3, hue=0.2),\n",
        "    RandomRotation(degrees=20),\n",
        "    transforms.ToTensor(),\n",
        "])\n",
        "\n",
        "dataset_train = VOCSegmentation(\n",
        "    root='./data',\n",
        "    year='2012',\n",
        "    image_set='train',\n",
        "    download=True,\n",
        "    transform=data_transforms,\n",
        "    target_transform=transforms.Compose([\n",
        "        transforms.Resize((256, 256)),\n",
        "        transforms.ToTensor(),\n",
        "    ])\n",
        ")\n",
        "\n",
        "def improved_train_and_evaluate(model, train_loader, val_loader, device, num_epochs=5, learning_rate=0.0001, batch_size=16):\n",
        "    optimizer = Adam(model.parameters(), lr=learning_rate)\n",
        "    criterion = CrossEntropyLoss()\n",
        "\n",
        "    train_loader = DataLoader(dataset_train, batch_size=batch_size, shuffle=True)\n",
        "\n",
        "    for epoch in range(num_epochs):\n",
        "        train_loss = train(model, train_loader, optimizer, criterion, device)\n",
        "        val_iou, val_accuracy = evaluate(model, val_loader, device)\n",
        "        print(f'Epoch {epoch+1}/{num_epochs}, Loss: {train_loss:.4f}, Val mIoU: {val_iou:.4f}, Val Accuracy: {val_accuracy:.4f}')\n",
        "\n",
        "    final_iou, final_accuracy = evaluate(model, val_loader, device)\n",
        "    print(f\"mIoU: {final_iou:.4f}, Accuracy: {final_accuracy:.4f}\\n\")\n",
        "\n",
        "print(\"=== Improved Training U-Net with ResNet34 Encoder ===\")\n",
        "improved_unet_model = smp.Unet(encoder_name='resnet34', classes=21, activation=None).to(device)\n",
        "improved_train_and_evaluate(improved_unet_model, train_loader, val_loader, device, num_epochs=5, learning_rate=0.00005, batch_size=12)\n",
        "\n",
        "print(\"=== Improved Training SegFormer ===\")\n",
        "improved_segformer_model = smp.create_model('segformer', in_channels=3, classes=21).to(device)\n",
        "improved_train_and_evaluate(improved_segformer_model, train_loader, val_loader, device, num_epochs=5, learning_rate=0.00005, batch_size=12)"
      ]
    },
    {
      "cell_type": "markdown",
      "metadata": {},
      "source": [
        "Собственная реализация"
      ]
    },
    {
      "cell_type": "code",
      "execution_count": 12,
      "metadata": {
        "id": "aB75S4D7KM-o"
      },
      "outputs": [],
      "source": [
        "import torch.nn as nn\n",
        "import torch.nn.functional as F\n",
        "\n",
        "class SimpleUNet(nn.Module):\n",
        "    def __init__(self, in_channels=3, out_channels=21):\n",
        "        super(SimpleUNet, self).__init__()\n",
        "\n",
        "        def conv_block(in_dim, out_dim):\n",
        "            return nn.Sequential(\n",
        "                nn.Conv2d(in_dim, out_dim, kernel_size=3, padding=1),\n",
        "                nn.ReLU(inplace=True),\n",
        "                nn.Conv2d(out_dim, out_dim, kernel_size=3, padding=1),\n",
        "                nn.ReLU(inplace=True),\n",
        "            )\n",
        "\n",
        "        def up_conv(in_dim, out_dim):\n",
        "            return nn.ConvTranspose2d(in_dim, out_dim, kernel_size=2, stride=2)\n",
        "\n",
        "        self.encoder1 = conv_block(in_channels, 64)\n",
        "        self.encoder2 = conv_block(64, 128)\n",
        "        self.encoder3 = conv_block(128, 256)\n",
        "        self.encoder4 = conv_block(256, 512)\n",
        "\n",
        "        self.pool = nn.MaxPool2d(kernel_size=2, stride=2)\n",
        "\n",
        "        self.bottleneck = conv_block(512, 1024)\n",
        "\n",
        "        self.upconv4 = up_conv(1024, 512)\n",
        "        self.decoder4 = conv_block(1024, 512)\n",
        "\n",
        "        self.upconv3 = up_conv(512, 256)\n",
        "        self.decoder3 = conv_block(512, 256)\n",
        "\n",
        "        self.upconv2 = up_conv(256, 128)\n",
        "        self.decoder2 = conv_block(256, 128)\n",
        "\n",
        "        self.upconv1 = up_conv(128, 64)\n",
        "        self.decoder1 = conv_block(128, 64)\n",
        "\n",
        "        self.final_conv = nn.Conv2d(64, out_channels, kernel_size=1)\n",
        "\n",
        "    def forward(self, x):\n",
        "        enc1 = self.encoder1(x)\n",
        "        enc2 = self.encoder2(self.pool(enc1))\n",
        "        enc3 = self.encoder3(self.pool(enc2))\n",
        "        enc4 = self.encoder4(self.pool(enc3))\n",
        "\n",
        "        bottleneck = self.bottleneck(self.pool(enc4))\n",
        "\n",
        "        dec4 = self.upconv4(bottleneck)\n",
        "        dec4 = torch.cat((enc4, dec4), dim=1)\n",
        "        dec4 = self.decoder4(dec4)\n",
        "\n",
        "        dec3 = self.upconv3(dec4)\n",
        "        dec3 = torch.cat((enc3, dec3), dim=1)\n",
        "        dec3 = self.decoder3(dec3)\n",
        "\n",
        "        dec2 = self.upconv2(dec3)\n",
        "        dec2 = torch.cat((enc2, dec2), dim=1)\n",
        "        dec2 = self.decoder2(dec2)\n",
        "\n",
        "        dec1 = self.upconv1(dec2)\n",
        "        dec1 = torch.cat((enc1, dec1), dim=1)\n",
        "        dec1 = self.decoder1(dec1)\n",
        "\n",
        "        return self.final_conv(dec1)\n",
        "\n",
        "# Инициализируем и обучаем модель\n",
        "simple_unet_model = SimpleUNet().to(device)"
      ]
    },
    {
      "cell_type": "code",
      "execution_count": 13,
      "metadata": {
        "colab": {
          "base_uri": "https://localhost:8080/"
        },
        "id": "pqODreaq_RiV",
        "outputId": "95977dd5-0aa6-4ff8-efe4-204333952af8"
      },
      "outputs": [
        {
          "name": "stdout",
          "output_type": "stream",
          "text": [
            "Epoch 1/5, Loss: 0.6021, Val mIoU: 0.4725, Val Accuracy: 0.9449\n",
            "Epoch 2/5, Loss: 0.2216, Val mIoU: 0.4725, Val Accuracy: 0.9449\n",
            "Epoch 3/5, Loss: 0.2119, Val mIoU: 0.4725, Val Accuracy: 0.9449\n",
            "Epoch 4/5, Loss: 0.2042, Val mIoU: 0.4725, Val Accuracy: 0.9449\n",
            "Epoch 5/5, Loss: 0.1999, Val mIoU: 0.4725, Val Accuracy: 0.9449\n",
            "mIoU: 0.4725, Accuracy: 0.9449\n"
          ]
        }
      ],
      "source": [
        "# Обучение модели SimpleUNet\n",
        "train_and_evaluate(simple_unet_model, train_loader, val_loader, device, num_epochs=5)"
      ]
    },
    {
      "cell_type": "code",
      "execution_count": 23,
      "metadata": {
        "id": "u1n4UlvJ_lOg"
      },
      "outputs": [],
      "source": [
        "class SimpleSegFormer(nn.Module):\n",
        "    def __init__(self, in_channels=3, out_channels=21):\n",
        "        super(SimpleSegFormer, self).__init__()\n",
        "\n",
        "        # Простая свертка для экстракции признаков\n",
        "        self.encoder = nn.Sequential(\n",
        "            nn.Conv2d(in_channels, 32, kernel_size=3, stride=2, padding=1),  # (128, 128)\n",
        "            nn.ReLU(inplace=True),\n",
        "            nn.Conv2d(32, 64, kernel_size=3, stride=2, padding=1),           # (64, 64)\n",
        "            nn.ReLU(inplace=True),\n",
        "            nn.Conv2d(64, 128, kernel_size=3, stride=2, padding=1),          # (32, 32)\n",
        "            nn.ReLU(inplace=True)\n",
        "        )\n",
        "\n",
        "        # Трансформер в качестве напоминания глобальных связей\n",
        "        self.transformer_block = nn.TransformerEncoder(\n",
        "            nn.TransformerEncoderLayer(d_model=128, nhead=8),\n",
        "            num_layers=2\n",
        "        )\n",
        "\n",
        "        # Обратная свертка для восстановления до оригинального размера\n",
        "        self.decoder = nn.Sequential(\n",
        "            nn.ConvTranspose2d(128, 64, kernel_size=2, stride=2),            # (64, 64)\n",
        "            nn.ReLU(inplace=True),\n",
        "            nn.ConvTranspose2d(64, 32, kernel_size=2, stride=2),             # (128, 128)\n",
        "            nn.ReLU(inplace=True),\n",
        "            nn.ConvTranspose2d(32, 32, kernel_size=2, stride=2),             # (256, 256)\n",
        "            nn.ReLU(inplace=True),\n",
        "            nn.Conv2d(32, out_channels, kernel_size=1)                        # (256, 256)\n",
        "        )\n",
        "\n",
        "    def forward(self, x):\n",
        "        # Извлечение признаков\n",
        "        x = self.encoder(x)\n",
        "        b, c, h, w = x.size()\n",
        "\n",
        "        # Преобразование для трансформера\n",
        "        x = x.flatten(2).permute(2, 0, 1)  # shape: [h*w, b, c]\n",
        "        x = self.transformer_block(x)\n",
        "        x = x.permute(1, 2, 0).reshape(b, c, h, w)  # shape: [b, c, h, w]\n",
        "\n",
        "        # Декодирование в карту сегментации\n",
        "        return self.decoder(x)\n",
        "\n",
        "# Инициализация и обучение SimpleSegFormer\n",
        "simple_segformer_model = SimpleSegFormer().to(device)"
      ]
    },
    {
      "cell_type": "code",
      "execution_count": 24,
      "metadata": {
        "colab": {
          "base_uri": "https://localhost:8080/"
        },
        "id": "KgRyyPu7Jmkq",
        "outputId": "3a00b239-b9be-4876-ec48-ad647385a5f7"
      },
      "outputs": [
        {
          "name": "stdout",
          "output_type": "stream",
          "text": [
            "Epoch 1/5, Loss: 2.1926, Val mIoU: 0.4725, Val Accuracy: 0.9449\n",
            "Epoch 2/5, Loss: 0.2536, Val mIoU: 0.4725, Val Accuracy: 0.9449\n",
            "Epoch 3/5, Loss: 0.2215, Val mIoU: 0.4725, Val Accuracy: 0.9449\n",
            "Epoch 4/5, Loss: 0.2099, Val mIoU: 0.4725, Val Accuracy: 0.9449\n",
            "Epoch 5/5, Loss: 0.2044, Val mIoU: 0.4725, Val Accuracy: 0.9449\n",
            "mIoU: 0.4725, Accuracy: 0.9449\n"
          ]
        }
      ],
      "source": [
        "train_and_evaluate(simple_segformer_model, train_loader, val_loader, device, num_epochs=5)"
      ]
    },
    {
      "cell_type": "markdown",
      "metadata": {},
      "source": [
        "Улучшение собственной реализации"
      ]
    },
    {
      "cell_type": "code",
      "execution_count": 17,
      "metadata": {
        "colab": {
          "base_uri": "https://localhost:8080/"
        },
        "id": "LUDxDp7EEfIz",
        "outputId": "7db4b05f-01ab-4253-a37b-896ecf9c76d0"
      },
      "outputs": [
        {
          "name": "stdout",
          "output_type": "stream",
          "text": [
            "\n",
            "=== Improved Self implementation Unet ===\n",
            "Epoch 1/10, Loss: 0.2126, Val mIoU: 0.4725, Val Accuracy: 0.9449\n",
            "Epoch 2/10, Loss: 0.2122, Val mIoU: 0.4725, Val Accuracy: 0.9449\n",
            "Epoch 3/10, Loss: 0.2115, Val mIoU: 0.4725, Val Accuracy: 0.9449\n",
            "Epoch 4/10, Loss: 0.2111, Val mIoU: 0.4725, Val Accuracy: 0.9449\n",
            "Epoch 5/10, Loss: 0.2110, Val mIoU: 0.4725, Val Accuracy: 0.9449\n",
            "mIoU: 0.4725, Accuracy: 0.9449\n",
            "\n"
          ]
        }
      ],
      "source": [
        "print('=== Improved Self implementation Unet ===')\n",
        "improved_train_and_evaluate(simple_unet_model, train_loader, val_loader, device, num_epochs=5, learning_rate=0.00005, batch_size=12)"
      ]
    },
    {
      "cell_type": "code",
      "execution_count": 25,
      "metadata": {
        "colab": {
          "base_uri": "https://localhost:8080/"
        },
        "id": "8qlUrpWWGo5O",
        "outputId": "afa39570-a097-46d7-bb33-84a33fd5cb18"
      },
      "outputs": [
        {
          "name": "stdout",
          "output_type": "stream",
          "text": [
            "=== Improved Self implementation SegFormer ===\n",
            "Epoch 1/5, Loss: 0.2123, Val mIoU: 0.4725, Val Accuracy: 0.9449\n",
            "Epoch 2/5, Loss: 0.2108, Val mIoU: 0.4725, Val Accuracy: 0.9449\n",
            "Epoch 3/5, Loss: 0.2098, Val mIoU: 0.4725, Val Accuracy: 0.9449\n",
            "Epoch 4/5, Loss: 0.2105, Val mIoU: 0.4725, Val Accuracy: 0.9449\n",
            "Epoch 5/5, Loss: 0.2097, Val mIoU: 0.4725, Val Accuracy: 0.9449\n",
            "mIoU: 0.4725, Accuracy: 0.9449\n",
            "\n"
          ]
        }
      ],
      "source": [
        "print('=== Improved Self implementation SegFormer ===')\n",
        "improved_train_and_evaluate(simple_segformer_model, train_loader, val_loader, device, num_epochs=5, learning_rate=0.00005, batch_size=12)"
      ]
    }
  ],
  "metadata": {
    "accelerator": "GPU",
    "colab": {
      "gpuType": "T4",
      "provenance": []
    },
    "kernelspec": {
      "display_name": ".venv",
      "language": "python",
      "name": "python3"
    },
    "language_info": {
      "codemirror_mode": {
        "name": "ipython",
        "version": 3
      },
      "file_extension": ".py",
      "mimetype": "text/x-python",
      "name": "python",
      "nbconvert_exporter": "python",
      "pygments_lexer": "ipython3",
      "version": "3.12.9"
    }
  },
  "nbformat": 4,
  "nbformat_minor": 0
}
